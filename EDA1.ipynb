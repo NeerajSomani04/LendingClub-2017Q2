{
 "cells": [
  {
   "cell_type": "markdown",
   "metadata": {},
   "source": [
    "# Final Project: Machine Learning with Lending Club Dataset - Oct 2017"
   ]
  },
  {
   "cell_type": "markdown",
   "metadata": {},
   "source": [
    "# Step 1 \n",
    "- Import needed libraries and load data into dataframe for analysis"
   ]
  },
  {
   "cell_type": "code",
   "execution_count": 2,
   "metadata": {},
   "outputs": [],
   "source": [
    "\"\"\"\n",
    "Load Lending Club dataset\n",
    "\"\"\"\n",
    "import pandas as pd\n",
    "import numpy as np\n",
    "# give the path to the file \n",
    "path_to_file = \"./LoanStats_2017Q2.csv\"\n",
    "data = pd.read_csv(path_to_file)"
   ]
  },
  {
   "cell_type": "code",
   "execution_count": 3,
   "metadata": {},
   "outputs": [
    {
     "name": "stdout",
     "output_type": "stream",
     "text": [
      "<class 'pandas.core.frame.DataFrame'>\n",
      "RangeIndex: 105451 entries, 0 to 105450\n",
      "Columns: 137 entries, id to hardship_last_payment_amount\n",
      "dtypes: float64(60), int64(52), object(25)\n",
      "memory usage: 110.2+ MB\n"
     ]
    }
   ],
   "source": [
    "data.info()"
   ]
  },
  {
   "cell_type": "markdown",
   "metadata": {},
   "source": [
    "# Step 2 \n",
    "- Lets check all the columns with all null values"
   ]
  },
  {
   "cell_type": "code",
   "execution_count": 4,
   "metadata": {},
   "outputs": [
    {
     "data": {
      "text/plain": [
       "['id',\n",
       " 'member_id',\n",
       " 'url',\n",
       " 'desc',\n",
       " 'hardship_type',\n",
       " 'hardship_reason',\n",
       " 'hardship_status',\n",
       " 'deferral_term',\n",
       " 'hardship_amount',\n",
       " 'hardship_start_date',\n",
       " 'hardship_end_date',\n",
       " 'payment_plan_start_date',\n",
       " 'hardship_length',\n",
       " 'hardship_dpd',\n",
       " 'hardship_loan_status',\n",
       " 'orig_projected_additional_accrued_interest',\n",
       " 'hardship_payoff_balance_amount',\n",
       " 'hardship_last_payment_amount']"
      ]
     },
     "execution_count": 4,
     "metadata": {},
     "output_type": "execute_result"
    }
   ],
   "source": [
    "data.columns[data.isnull().all()].tolist()"
   ]
  },
  {
   "cell_type": "code",
   "execution_count": 3,
   "metadata": {},
   "outputs": [
    {
     "name": "stdout",
     "output_type": "stream",
     "text": [
      "<class 'pandas.core.frame.DataFrame'>\n",
      "RangeIndex: 105451 entries, 0 to 105450\n",
      "Columns: 119 entries, loan_amnt to hardship_flag\n",
      "dtypes: float64(42), int64(52), object(25)\n",
      "memory usage: 95.7+ MB\n"
     ]
    }
   ],
   "source": [
    "# Drop all columns with null or nan values\n",
    "df = data.dropna(axis=1, how='all')\n",
    "df.info()"
   ]
  },
  {
   "cell_type": "markdown",
   "metadata": {},
   "source": [
    "- Hence, we dropped 137-119 = 18 columns"
   ]
  },
  {
   "cell_type": "code",
   "execution_count": 6,
   "metadata": {
    "scrolled": true
   },
   "outputs": [
    {
     "data": {
      "text/html": [
       "<div>\n",
       "<style>\n",
       "    .dataframe thead tr:only-child th {\n",
       "        text-align: right;\n",
       "    }\n",
       "\n",
       "    .dataframe thead th {\n",
       "        text-align: left;\n",
       "    }\n",
       "\n",
       "    .dataframe tbody tr th {\n",
       "        vertical-align: top;\n",
       "    }\n",
       "</style>\n",
       "<table border=\"1\" class=\"dataframe\">\n",
       "  <thead>\n",
       "    <tr style=\"text-align: right;\">\n",
       "      <th></th>\n",
       "      <th>loan_amnt</th>\n",
       "      <th>funded_amnt</th>\n",
       "      <th>funded_amnt_inv</th>\n",
       "      <th>term</th>\n",
       "      <th>int_rate</th>\n",
       "      <th>installment</th>\n",
       "      <th>grade</th>\n",
       "      <th>sub_grade</th>\n",
       "      <th>emp_title</th>\n",
       "      <th>emp_length</th>\n",
       "      <th>...</th>\n",
       "      <th>sec_app_inq_last_6mths</th>\n",
       "      <th>sec_app_mort_acc</th>\n",
       "      <th>sec_app_open_acc</th>\n",
       "      <th>sec_app_revol_util</th>\n",
       "      <th>sec_app_open_il_6m</th>\n",
       "      <th>sec_app_num_rev_accts</th>\n",
       "      <th>sec_app_chargeoff_within_12_mths</th>\n",
       "      <th>sec_app_collections_12_mths_ex_med</th>\n",
       "      <th>sec_app_mths_since_last_major_derog</th>\n",
       "      <th>hardship_flag</th>\n",
       "    </tr>\n",
       "  </thead>\n",
       "  <tbody>\n",
       "    <tr>\n",
       "      <th>0</th>\n",
       "      <td>16000</td>\n",
       "      <td>16000</td>\n",
       "      <td>16000</td>\n",
       "      <td>60 months</td>\n",
       "      <td>12.62%</td>\n",
       "      <td>360.95</td>\n",
       "      <td>C</td>\n",
       "      <td>C1</td>\n",
       "      <td>teacher</td>\n",
       "      <td>10+ years</td>\n",
       "      <td>...</td>\n",
       "      <td>NaN</td>\n",
       "      <td>NaN</td>\n",
       "      <td>NaN</td>\n",
       "      <td>NaN</td>\n",
       "      <td>NaN</td>\n",
       "      <td>NaN</td>\n",
       "      <td>NaN</td>\n",
       "      <td>NaN</td>\n",
       "      <td>NaN</td>\n",
       "      <td>N</td>\n",
       "    </tr>\n",
       "    <tr>\n",
       "      <th>1</th>\n",
       "      <td>8000</td>\n",
       "      <td>8000</td>\n",
       "      <td>8000</td>\n",
       "      <td>36 months</td>\n",
       "      <td>14.08%</td>\n",
       "      <td>273.74</td>\n",
       "      <td>C</td>\n",
       "      <td>C3</td>\n",
       "      <td>Registered Nurse</td>\n",
       "      <td>9 years</td>\n",
       "      <td>...</td>\n",
       "      <td>NaN</td>\n",
       "      <td>NaN</td>\n",
       "      <td>NaN</td>\n",
       "      <td>NaN</td>\n",
       "      <td>NaN</td>\n",
       "      <td>NaN</td>\n",
       "      <td>NaN</td>\n",
       "      <td>NaN</td>\n",
       "      <td>NaN</td>\n",
       "      <td>N</td>\n",
       "    </tr>\n",
       "    <tr>\n",
       "      <th>2</th>\n",
       "      <td>26000</td>\n",
       "      <td>26000</td>\n",
       "      <td>26000</td>\n",
       "      <td>36 months</td>\n",
       "      <td>9.93%</td>\n",
       "      <td>838.10</td>\n",
       "      <td>B</td>\n",
       "      <td>B2</td>\n",
       "      <td>Dealer</td>\n",
       "      <td>7 years</td>\n",
       "      <td>...</td>\n",
       "      <td>NaN</td>\n",
       "      <td>NaN</td>\n",
       "      <td>NaN</td>\n",
       "      <td>NaN</td>\n",
       "      <td>NaN</td>\n",
       "      <td>NaN</td>\n",
       "      <td>NaN</td>\n",
       "      <td>NaN</td>\n",
       "      <td>NaN</td>\n",
       "      <td>N</td>\n",
       "    </tr>\n",
       "    <tr>\n",
       "      <th>3</th>\n",
       "      <td>18950</td>\n",
       "      <td>18950</td>\n",
       "      <td>18950</td>\n",
       "      <td>60 months</td>\n",
       "      <td>21.45%</td>\n",
       "      <td>517.47</td>\n",
       "      <td>D</td>\n",
       "      <td>D5</td>\n",
       "      <td>QA Manager</td>\n",
       "      <td>1 year</td>\n",
       "      <td>...</td>\n",
       "      <td>NaN</td>\n",
       "      <td>NaN</td>\n",
       "      <td>NaN</td>\n",
       "      <td>NaN</td>\n",
       "      <td>NaN</td>\n",
       "      <td>NaN</td>\n",
       "      <td>NaN</td>\n",
       "      <td>NaN</td>\n",
       "      <td>NaN</td>\n",
       "      <td>N</td>\n",
       "    </tr>\n",
       "    <tr>\n",
       "      <th>4</th>\n",
       "      <td>9600</td>\n",
       "      <td>9600</td>\n",
       "      <td>9600</td>\n",
       "      <td>36 months</td>\n",
       "      <td>7.97%</td>\n",
       "      <td>300.70</td>\n",
       "      <td>A</td>\n",
       "      <td>A5</td>\n",
       "      <td>Physician Assistant</td>\n",
       "      <td>&lt; 1 year</td>\n",
       "      <td>...</td>\n",
       "      <td>NaN</td>\n",
       "      <td>NaN</td>\n",
       "      <td>NaN</td>\n",
       "      <td>NaN</td>\n",
       "      <td>NaN</td>\n",
       "      <td>NaN</td>\n",
       "      <td>NaN</td>\n",
       "      <td>NaN</td>\n",
       "      <td>NaN</td>\n",
       "      <td>N</td>\n",
       "    </tr>\n",
       "  </tbody>\n",
       "</table>\n",
       "<p>5 rows × 119 columns</p>\n",
       "</div>"
      ],
      "text/plain": [
       "   loan_amnt  funded_amnt  funded_amnt_inv        term int_rate  installment  \\\n",
       "0      16000        16000            16000   60 months   12.62%       360.95   \n",
       "1       8000         8000             8000   36 months   14.08%       273.74   \n",
       "2      26000        26000            26000   36 months    9.93%       838.10   \n",
       "3      18950        18950            18950   60 months   21.45%       517.47   \n",
       "4       9600         9600             9600   36 months    7.97%       300.70   \n",
       "\n",
       "  grade sub_grade            emp_title emp_length      ...       \\\n",
       "0     C        C1              teacher  10+ years      ...        \n",
       "1     C        C3     Registered Nurse    9 years      ...        \n",
       "2     B        B2               Dealer    7 years      ...        \n",
       "3     D        D5           QA Manager     1 year      ...        \n",
       "4     A        A5  Physician Assistant   < 1 year      ...        \n",
       "\n",
       "  sec_app_inq_last_6mths  sec_app_mort_acc sec_app_open_acc  \\\n",
       "0                    NaN               NaN              NaN   \n",
       "1                    NaN               NaN              NaN   \n",
       "2                    NaN               NaN              NaN   \n",
       "3                    NaN               NaN              NaN   \n",
       "4                    NaN               NaN              NaN   \n",
       "\n",
       "  sec_app_revol_util sec_app_open_il_6m sec_app_num_rev_accts  \\\n",
       "0                NaN                NaN                   NaN   \n",
       "1                NaN                NaN                   NaN   \n",
       "2                NaN                NaN                   NaN   \n",
       "3                NaN                NaN                   NaN   \n",
       "4                NaN                NaN                   NaN   \n",
       "\n",
       "  sec_app_chargeoff_within_12_mths sec_app_collections_12_mths_ex_med  \\\n",
       "0                              NaN                                NaN   \n",
       "1                              NaN                                NaN   \n",
       "2                              NaN                                NaN   \n",
       "3                              NaN                                NaN   \n",
       "4                              NaN                                NaN   \n",
       "\n",
       "  sec_app_mths_since_last_major_derog hardship_flag  \n",
       "0                                 NaN             N  \n",
       "1                                 NaN             N  \n",
       "2                                 NaN             N  \n",
       "3                                 NaN             N  \n",
       "4                                 NaN             N  \n",
       "\n",
       "[5 rows x 119 columns]"
      ]
     },
     "execution_count": 6,
     "metadata": {},
     "output_type": "execute_result"
    }
   ],
   "source": [
    "df.head()"
   ]
  },
  {
   "cell_type": "markdown",
   "metadata": {},
   "source": [
    "# Step 3\n",
    "- feature selection and data exploration\n",
    "- Lets analyze each column data and clean data"
   ]
  },
  {
   "cell_type": "code",
   "execution_count": 15,
   "metadata": {},
   "outputs": [
    {
     "data": {
      "text/html": [
       "<div>\n",
       "<style>\n",
       "    .dataframe thead tr:only-child th {\n",
       "        text-align: right;\n",
       "    }\n",
       "\n",
       "    .dataframe thead th {\n",
       "        text-align: left;\n",
       "    }\n",
       "\n",
       "    .dataframe tbody tr th {\n",
       "        vertical-align: top;\n",
       "    }\n",
       "</style>\n",
       "<table border=\"1\" class=\"dataframe\">\n",
       "  <thead>\n",
       "    <tr style=\"text-align: right;\">\n",
       "      <th></th>\n",
       "      <th>loan_amnt</th>\n",
       "      <th>funded_amnt</th>\n",
       "    </tr>\n",
       "  </thead>\n",
       "  <tbody>\n",
       "  </tbody>\n",
       "</table>\n",
       "</div>"
      ],
      "text/plain": [
       "Empty DataFrame\n",
       "Columns: [loan_amnt, funded_amnt]\n",
       "Index: []"
      ]
     },
     "execution_count": 15,
     "metadata": {},
     "output_type": "execute_result"
    }
   ],
   "source": [
    "df.query('loan_amnt != funded_amnt').iloc[:,:2]"
   ]
  },
  {
   "cell_type": "code",
   "execution_count": 18,
   "metadata": {},
   "outputs": [
    {
     "data": {
      "text/html": [
       "<div>\n",
       "<style>\n",
       "    .dataframe thead tr:only-child th {\n",
       "        text-align: right;\n",
       "    }\n",
       "\n",
       "    .dataframe thead th {\n",
       "        text-align: left;\n",
       "    }\n",
       "\n",
       "    .dataframe tbody tr th {\n",
       "        vertical-align: top;\n",
       "    }\n",
       "</style>\n",
       "<table border=\"1\" class=\"dataframe\">\n",
       "  <thead>\n",
       "    <tr style=\"text-align: right;\">\n",
       "      <th></th>\n",
       "      <th>funded_amnt</th>\n",
       "      <th>funded_amnt_inv</th>\n",
       "    </tr>\n",
       "  </thead>\n",
       "  <tbody>\n",
       "    <tr>\n",
       "      <th>2059</th>\n",
       "      <td>8000</td>\n",
       "      <td>7975</td>\n",
       "    </tr>\n",
       "    <tr>\n",
       "      <th>2106</th>\n",
       "      <td>24950</td>\n",
       "      <td>24700</td>\n",
       "    </tr>\n",
       "    <tr>\n",
       "      <th>2113</th>\n",
       "      <td>12000</td>\n",
       "      <td>11500</td>\n",
       "    </tr>\n",
       "    <tr>\n",
       "      <th>2153</th>\n",
       "      <td>32000</td>\n",
       "      <td>31975</td>\n",
       "    </tr>\n",
       "    <tr>\n",
       "      <th>2193</th>\n",
       "      <td>25000</td>\n",
       "      <td>24925</td>\n",
       "    </tr>\n",
       "  </tbody>\n",
       "</table>\n",
       "</div>"
      ],
      "text/plain": [
       "      funded_amnt  funded_amnt_inv\n",
       "2059         8000             7975\n",
       "2106        24950            24700\n",
       "2113        12000            11500\n",
       "2153        32000            31975\n",
       "2193        25000            24925"
      ]
     },
     "execution_count": 18,
     "metadata": {},
     "output_type": "execute_result"
    }
   ],
   "source": [
    "df.query('funded_amnt_inv != funded_amnt').iloc[:,1:3].head()"
   ]
  },
  {
   "cell_type": "markdown",
   "metadata": {},
   "source": [
    " - As you can see above there is no difference in loan_amount and funded amount. I also checked in Data Dictionary file provided by Lending Club. Looks like loan amount reflects the credit department approval amount.\n",
    " - On the other side there is some difference between funded amount and funded amount commited by investors. It will be a good analysis point why and how this amount gets calculated."
   ]
  },
  {
   "cell_type": "code",
   "execution_count": 74,
   "metadata": {},
   "outputs": [
    {
     "data": {
      "text/plain": [
       " 36 months    77105\n",
       " 60 months    28346\n",
       "Name: term, dtype: int64"
      ]
     },
     "execution_count": 74,
     "metadata": {},
     "output_type": "execute_result"
    }
   ],
   "source": [
    "# for now I am keeping the term field as is\n",
    "df.term.value_counts()"
   ]
  },
  {
   "cell_type": "code",
   "execution_count": 4,
   "metadata": {},
   "outputs": [
    {
     "name": "stderr",
     "output_type": "stream",
     "text": [
      "/Users/neerajsomani/anaconda/envs/env_dsa/lib/python3.6/site-packages/pandas/core/indexing.py:517: SettingWithCopyWarning: \n",
      "A value is trying to be set on a copy of a slice from a DataFrame.\n",
      "Try using .loc[row_indexer,col_indexer] = value instead\n",
      "\n",
      "See the caveats in the documentation: http://pandas.pydata.org/pandas-docs/stable/indexing.html#indexing-view-versus-copy\n",
      "  self.obj[item] = s\n"
     ]
    },
    {
     "data": {
      "text/plain": [
       "dtype('float64')"
      ]
     },
     "execution_count": 4,
     "metadata": {},
     "output_type": "execute_result"
    }
   ],
   "source": [
    "# This line of code will convert interest rate column to float values. \n",
    "# As this will help us in our analysis and calculation.\n",
    "df.loc[:,'int_rate'] = df.loc[:,'int_rate'].str.replace('%', '').astype(float)\n",
    "df.int_rate.dtype"
   ]
  },
  {
   "cell_type": "code",
   "execution_count": 88,
   "metadata": {},
   "outputs": [
    {
     "data": {
      "text/html": [
       "<div>\n",
       "<style>\n",
       "    .dataframe thead tr:only-child th {\n",
       "        text-align: right;\n",
       "    }\n",
       "\n",
       "    .dataframe thead th {\n",
       "        text-align: left;\n",
       "    }\n",
       "\n",
       "    .dataframe tbody tr th {\n",
       "        vertical-align: top;\n",
       "    }\n",
       "</style>\n",
       "<table border=\"1\" class=\"dataframe\">\n",
       "  <thead>\n",
       "    <tr style=\"text-align: right;\">\n",
       "      <th></th>\n",
       "      <th>emp_title</th>\n",
       "      <th>emp_length</th>\n",
       "      <th>home_ownership</th>\n",
       "      <th>annual_inc</th>\n",
       "      <th>verification_status</th>\n",
       "      <th>issue_d</th>\n",
       "    </tr>\n",
       "  </thead>\n",
       "  <tbody>\n",
       "    <tr>\n",
       "      <th>0</th>\n",
       "      <td>teacher</td>\n",
       "      <td>10+ years</td>\n",
       "      <td>MORTGAGE</td>\n",
       "      <td>94000.0</td>\n",
       "      <td>Not Verified</td>\n",
       "      <td>Jun-2017</td>\n",
       "    </tr>\n",
       "    <tr>\n",
       "      <th>1</th>\n",
       "      <td>Registered Nurse</td>\n",
       "      <td>9 years</td>\n",
       "      <td>RENT</td>\n",
       "      <td>120000.0</td>\n",
       "      <td>Verified</td>\n",
       "      <td>Jun-2017</td>\n",
       "    </tr>\n",
       "    <tr>\n",
       "      <th>2</th>\n",
       "      <td>Dealer</td>\n",
       "      <td>7 years</td>\n",
       "      <td>OWN</td>\n",
       "      <td>57900.0</td>\n",
       "      <td>Not Verified</td>\n",
       "      <td>Jun-2017</td>\n",
       "    </tr>\n",
       "    <tr>\n",
       "      <th>3</th>\n",
       "      <td>QA Manager</td>\n",
       "      <td>1 year</td>\n",
       "      <td>MORTGAGE</td>\n",
       "      <td>130000.0</td>\n",
       "      <td>Verified</td>\n",
       "      <td>Jun-2017</td>\n",
       "    </tr>\n",
       "    <tr>\n",
       "      <th>4</th>\n",
       "      <td>Physician Assistant</td>\n",
       "      <td>&lt; 1 year</td>\n",
       "      <td>OWN</td>\n",
       "      <td>140000.0</td>\n",
       "      <td>Not Verified</td>\n",
       "      <td>Jun-2017</td>\n",
       "    </tr>\n",
       "  </tbody>\n",
       "</table>\n",
       "</div>"
      ],
      "text/plain": [
       "             emp_title emp_length home_ownership  annual_inc  \\\n",
       "0              teacher  10+ years       MORTGAGE     94000.0   \n",
       "1     Registered Nurse    9 years           RENT    120000.0   \n",
       "2               Dealer    7 years            OWN     57900.0   \n",
       "3           QA Manager     1 year       MORTGAGE    130000.0   \n",
       "4  Physician Assistant   < 1 year            OWN    140000.0   \n",
       "\n",
       "  verification_status   issue_d  \n",
       "0        Not Verified  Jun-2017  \n",
       "1            Verified  Jun-2017  \n",
       "2        Not Verified  Jun-2017  \n",
       "3            Verified  Jun-2017  \n",
       "4        Not Verified  Jun-2017  "
      ]
     },
     "execution_count": 88,
     "metadata": {},
     "output_type": "execute_result"
    }
   ],
   "source": [
    "df.iloc[:,8:14].head()"
   ]
  },
  {
   "cell_type": "markdown",
   "metadata": {},
   "source": [
    "- emp_title is not important field for our analysis."
   ]
  },
  {
   "cell_type": "code",
   "execution_count": 5,
   "metadata": {},
   "outputs": [
    {
     "name": "stderr",
     "output_type": "stream",
     "text": [
      "/Users/neerajsomani/anaconda/envs/env_dsa/lib/python3.6/site-packages/ipykernel_launcher.py:1: SettingWithCopyWarning: \n",
      "A value is trying to be set on a copy of a slice from a DataFrame\n",
      "\n",
      "See the caveats in the documentation: http://pandas.pydata.org/pandas-docs/stable/indexing.html#indexing-view-versus-copy\n",
      "  \"\"\"Entry point for launching an IPython kernel.\n"
     ]
    }
   ],
   "source": [
    "df.drop(['emp_title'],1, inplace=True)"
   ]
  },
  {
   "cell_type": "code",
   "execution_count": 90,
   "metadata": {},
   "outputs": [
    {
     "data": {
      "text/plain": [
       "10+ years    35438\n",
       "2 years       9914\n",
       "< 1 year      9542\n",
       "3 years       8495\n",
       "1 year        7034\n",
       "n/a           6697\n",
       "4 years       6453\n",
       "5 years       6382\n",
       "6 years       4526\n",
       "7 years       3847\n",
       "9 years       3828\n",
       "8 years       3295\n",
       "Name: emp_length, dtype: int64"
      ]
     },
     "execution_count": 90,
     "metadata": {},
     "output_type": "execute_result"
    }
   ],
   "source": [
    "# lets work on next column, emp_length might be helpful for our analysis\n",
    "df.emp_length.value_counts()"
   ]
  },
  {
   "cell_type": "code",
   "execution_count": 6,
   "metadata": {},
   "outputs": [
    {
     "name": "stderr",
     "output_type": "stream",
     "text": [
      "/Users/neerajsomani/anaconda/envs/env_dsa/lib/python3.6/site-packages/ipykernel_launcher.py:1: SettingWithCopyWarning: \n",
      "A value is trying to be set on a copy of a slice from a DataFrame\n",
      "\n",
      "See the caveats in the documentation: http://pandas.pydata.org/pandas-docs/stable/indexing.html#indexing-view-versus-copy\n",
      "  \"\"\"Entry point for launching an IPython kernel.\n",
      "/Users/neerajsomani/anaconda/envs/env_dsa/lib/python3.6/site-packages/pandas/core/generic.py:3660: SettingWithCopyWarning: \n",
      "A value is trying to be set on a copy of a slice from a DataFrame\n",
      "\n",
      "See the caveats in the documentation: http://pandas.pydata.org/pandas-docs/stable/indexing.html#indexing-view-versus-copy\n",
      "  self._update_inplace(new_data)\n",
      "/Users/neerajsomani/anaconda/envs/env_dsa/lib/python3.6/site-packages/pandas/core/generic.py:3924: SettingWithCopyWarning: \n",
      "A value is trying to be set on a copy of a slice from a DataFrame\n",
      "\n",
      "See the caveats in the documentation: http://pandas.pydata.org/pandas-docs/stable/indexing.html#indexing-view-versus-copy\n",
      "  self._update_inplace(new_data)\n"
     ]
    },
    {
     "data": {
      "text/plain": [
       "dtype('O')"
      ]
     },
     "execution_count": 6,
     "metadata": {},
     "output_type": "execute_result"
    }
   ],
   "source": [
    "df.replace('n/a', np.nan,inplace=True)\n",
    "df['emp_length'].fillna(value=0,inplace=True)\n",
    "df['emp_length'].replace(to_replace='[^0-9]+', value='', inplace=True, regex=True)\n",
    "df['emp_length'].dtype"
   ]
  },
  {
   "cell_type": "code",
   "execution_count": 92,
   "metadata": {},
   "outputs": [
    {
     "data": {
      "text/plain": [
       "MORTGAGE    52502\n",
       "RENT        41069\n",
       "OWN         11873\n",
       "ANY             5\n",
       "NONE            2\n",
       "Name: home_ownership, dtype: int64"
      ]
     },
     "execution_count": 92,
     "metadata": {},
     "output_type": "execute_result"
    }
   ],
   "source": [
    "df.home_ownership.value_counts()"
   ]
  },
  {
   "cell_type": "code",
   "execution_count": 93,
   "metadata": {},
   "outputs": [
    {
     "data": {
      "text/plain": [
       "Source Verified    40622\n",
       "Not Verified       37599\n",
       "Verified           27230\n",
       "Name: verification_status, dtype: int64"
      ]
     },
     "execution_count": 93,
     "metadata": {},
     "output_type": "execute_result"
    }
   ],
   "source": [
    "df.verification_status.value_counts()"
   ]
  },
  {
   "cell_type": "code",
   "execution_count": 94,
   "metadata": {},
   "outputs": [
    {
     "data": {
      "text/plain": [
       "Jun-2017    38087\n",
       "May-2017    37681\n",
       "Apr-2017    29683\n",
       "Name: issue_d, dtype: int64"
      ]
     },
     "execution_count": 94,
     "metadata": {},
     "output_type": "execute_result"
    }
   ],
   "source": [
    "df.issue_d.value_counts()"
   ]
  },
  {
   "cell_type": "markdown",
   "metadata": {},
   "source": [
    "- As you can see above the column data type is int but values looks like string. Lets remove '-2017' from values and make this column as string."
   ]
  },
  {
   "cell_type": "code",
   "execution_count": 7,
   "metadata": {},
   "outputs": [
    {
     "name": "stderr",
     "output_type": "stream",
     "text": [
      "/Users/neerajsomani/anaconda/envs/env_dsa/lib/python3.6/site-packages/pandas/core/indexing.py:517: SettingWithCopyWarning: \n",
      "A value is trying to be set on a copy of a slice from a DataFrame.\n",
      "Try using .loc[row_indexer,col_indexer] = value instead\n",
      "\n",
      "See the caveats in the documentation: http://pandas.pydata.org/pandas-docs/stable/indexing.html#indexing-view-versus-copy\n",
      "  self.obj[item] = s\n"
     ]
    },
    {
     "data": {
      "text/plain": [
       "Jun    38087\n",
       "May    37681\n",
       "Apr    29683\n",
       "Name: issue_d, dtype: int64"
      ]
     },
     "execution_count": 7,
     "metadata": {},
     "output_type": "execute_result"
    }
   ],
   "source": [
    "df.loc[:,'issue_d'] = df.loc[:,'issue_d'].str.replace('-2017', '')\n",
    "#df.int_rate.dtype\n",
    "#df.issue_d.astype(str).replace('-2017', '').astype(str)\n",
    "df.issue_d.value_counts()"
   ]
  },
  {
   "cell_type": "code",
   "execution_count": 97,
   "metadata": {},
   "outputs": [
    {
     "data": {
      "text/html": [
       "<div>\n",
       "<style>\n",
       "    .dataframe thead tr:only-child th {\n",
       "        text-align: right;\n",
       "    }\n",
       "\n",
       "    .dataframe thead th {\n",
       "        text-align: left;\n",
       "    }\n",
       "\n",
       "    .dataframe tbody tr th {\n",
       "        vertical-align: top;\n",
       "    }\n",
       "</style>\n",
       "<table border=\"1\" class=\"dataframe\">\n",
       "  <thead>\n",
       "    <tr style=\"text-align: right;\">\n",
       "      <th></th>\n",
       "      <th>issue_d</th>\n",
       "      <th>loan_status</th>\n",
       "      <th>pymnt_plan</th>\n",
       "      <th>purpose</th>\n",
       "      <th>title</th>\n",
       "      <th>zip_code</th>\n",
       "      <th>addr_state</th>\n",
       "      <th>dti</th>\n",
       "      <th>delinq_2yrs</th>\n",
       "    </tr>\n",
       "  </thead>\n",
       "  <tbody>\n",
       "    <tr>\n",
       "      <th>0</th>\n",
       "      <td>Jun</td>\n",
       "      <td>Current</td>\n",
       "      <td>n</td>\n",
       "      <td>debt_consolidation</td>\n",
       "      <td>Debt consolidation</td>\n",
       "      <td>021xx</td>\n",
       "      <td>MA</td>\n",
       "      <td>25.61</td>\n",
       "      <td>0</td>\n",
       "    </tr>\n",
       "    <tr>\n",
       "      <th>1</th>\n",
       "      <td>Jun</td>\n",
       "      <td>Current</td>\n",
       "      <td>n</td>\n",
       "      <td>vacation</td>\n",
       "      <td>Vacation</td>\n",
       "      <td>070xx</td>\n",
       "      <td>NJ</td>\n",
       "      <td>31.58</td>\n",
       "      <td>0</td>\n",
       "    </tr>\n",
       "    <tr>\n",
       "      <th>2</th>\n",
       "      <td>Jun</td>\n",
       "      <td>Current</td>\n",
       "      <td>n</td>\n",
       "      <td>home_improvement</td>\n",
       "      <td>Home improvement</td>\n",
       "      <td>198xx</td>\n",
       "      <td>DE</td>\n",
       "      <td>12.19</td>\n",
       "      <td>0</td>\n",
       "    </tr>\n",
       "    <tr>\n",
       "      <th>3</th>\n",
       "      <td>Jun</td>\n",
       "      <td>Current</td>\n",
       "      <td>n</td>\n",
       "      <td>credit_card</td>\n",
       "      <td>Credit card refinancing</td>\n",
       "      <td>950xx</td>\n",
       "      <td>CA</td>\n",
       "      <td>31.39</td>\n",
       "      <td>0</td>\n",
       "    </tr>\n",
       "    <tr>\n",
       "      <th>4</th>\n",
       "      <td>Jun</td>\n",
       "      <td>Current</td>\n",
       "      <td>n</td>\n",
       "      <td>credit_card</td>\n",
       "      <td>Credit card refinancing</td>\n",
       "      <td>880xx</td>\n",
       "      <td>NM</td>\n",
       "      <td>18.34</td>\n",
       "      <td>0</td>\n",
       "    </tr>\n",
       "  </tbody>\n",
       "</table>\n",
       "</div>"
      ],
      "text/plain": [
       "  issue_d loan_status pymnt_plan             purpose                    title  \\\n",
       "0     Jun     Current          n  debt_consolidation       Debt consolidation   \n",
       "1     Jun     Current          n            vacation                 Vacation   \n",
       "2     Jun     Current          n    home_improvement         Home improvement   \n",
       "3     Jun     Current          n         credit_card  Credit card refinancing   \n",
       "4     Jun     Current          n         credit_card  Credit card refinancing   \n",
       "\n",
       "  zip_code addr_state    dti  delinq_2yrs  \n",
       "0    021xx         MA  25.61            0  \n",
       "1    070xx         NJ  31.58            0  \n",
       "2    198xx         DE  12.19            0  \n",
       "3    950xx         CA  31.39            0  \n",
       "4    880xx         NM  18.34            0  "
      ]
     },
     "execution_count": 97,
     "metadata": {},
     "output_type": "execute_result"
    }
   ],
   "source": [
    "df.iloc[:,13:21].head()"
   ]
  },
  {
   "cell_type": "code",
   "execution_count": 57,
   "metadata": {},
   "outputs": [
    {
     "data": {
      "text/plain": [
       "Current               99850\n",
       "Fully Paid             3896\n",
       "In Grace Period         932\n",
       "Late (31-120 days)      436\n",
       "Late (16-30 days)       312\n",
       "Charged Off              25\n",
       "Name: loan_status, dtype: int64"
      ]
     },
     "execution_count": 57,
     "metadata": {},
     "output_type": "execute_result"
    }
   ],
   "source": [
    "# Not sure about loan status currently, so keeping it as is for now\n",
    "df.loan_status.value_counts()"
   ]
  },
  {
   "cell_type": "code",
   "execution_count": 98,
   "metadata": {},
   "outputs": [
    {
     "data": {
      "text/plain": [
       "n    105451\n",
       "Name: pymnt_plan, dtype: int64"
      ]
     },
     "execution_count": 98,
     "metadata": {},
     "output_type": "execute_result"
    }
   ],
   "source": [
    "df.pymnt_plan.value_counts()"
   ]
  },
  {
   "cell_type": "code",
   "execution_count": 8,
   "metadata": {},
   "outputs": [
    {
     "name": "stderr",
     "output_type": "stream",
     "text": [
      "/Users/neerajsomani/anaconda/envs/env_dsa/lib/python3.6/site-packages/ipykernel_launcher.py:2: SettingWithCopyWarning: \n",
      "A value is trying to be set on a copy of a slice from a DataFrame\n",
      "\n",
      "See the caveats in the documentation: http://pandas.pydata.org/pandas-docs/stable/indexing.html#indexing-view-versus-copy\n",
      "  \n"
     ]
    }
   ],
   "source": [
    "# as you can see above this column doesn't has any meaning value, so droping it.\n",
    "df.drop(['pymnt_plan','purpose','title'], axis=1, inplace=True)"
   ]
  },
  {
   "cell_type": "markdown",
   "metadata": {},
   "source": [
    "- I am keeping zip_code as we can analyze the location info"
   ]
  },
  {
   "cell_type": "code",
   "execution_count": 101,
   "metadata": {},
   "outputs": [
    {
     "data": {
      "text/plain": [
       "False"
      ]
     },
     "execution_count": 101,
     "metadata": {},
     "output_type": "execute_result"
    }
   ],
   "source": [
    "df.zip_code.isnull().any()"
   ]
  },
  {
   "cell_type": "code",
   "execution_count": 102,
   "metadata": {},
   "outputs": [
    {
     "data": {
      "text/plain": [
       "False"
      ]
     },
     "execution_count": 102,
     "metadata": {},
     "output_type": "execute_result"
    }
   ],
   "source": [
    "df.addr_state.isnull().any()"
   ]
  },
  {
   "cell_type": "code",
   "execution_count": 109,
   "metadata": {},
   "outputs": [
    {
     "name": "stdout",
     "output_type": "stream",
     "text": [
      "have null in dti:  True\n",
      "how many null values:  75\n"
     ]
    }
   ],
   "source": [
    "print('have null in dti: ' , df.dti.isnull().any())\n",
    "print('how many null values: ', df.dti.isnull().sum())"
   ]
  },
  {
   "cell_type": "code",
   "execution_count": 111,
   "metadata": {},
   "outputs": [
    {
     "data": {
      "text/plain": [
       "False"
      ]
     },
     "execution_count": 111,
     "metadata": {},
     "output_type": "execute_result"
    }
   ],
   "source": [
    "df.delinq_2yrs.isnull().any()"
   ]
  },
  {
   "cell_type": "code",
   "execution_count": 115,
   "metadata": {},
   "outputs": [
    {
     "data": {
      "text/html": [
       "<div>\n",
       "<style>\n",
       "    .dataframe thead tr:only-child th {\n",
       "        text-align: right;\n",
       "    }\n",
       "\n",
       "    .dataframe thead th {\n",
       "        text-align: left;\n",
       "    }\n",
       "\n",
       "    .dataframe tbody tr th {\n",
       "        vertical-align: top;\n",
       "    }\n",
       "</style>\n",
       "<table border=\"1\" class=\"dataframe\">\n",
       "  <thead>\n",
       "    <tr style=\"text-align: right;\">\n",
       "      <th></th>\n",
       "      <th>earliest_cr_line</th>\n",
       "      <th>inq_last_6mths</th>\n",
       "      <th>mths_since_last_delinq</th>\n",
       "      <th>mths_since_last_record</th>\n",
       "      <th>open_acc</th>\n",
       "      <th>pub_rec</th>\n",
       "      <th>revol_bal</th>\n",
       "    </tr>\n",
       "  </thead>\n",
       "  <tbody>\n",
       "    <tr>\n",
       "      <th>0</th>\n",
       "      <td>Jun-1992</td>\n",
       "      <td>0</td>\n",
       "      <td>NaN</td>\n",
       "      <td>NaN</td>\n",
       "      <td>9</td>\n",
       "      <td>0</td>\n",
       "      <td>33752</td>\n",
       "    </tr>\n",
       "    <tr>\n",
       "      <th>1</th>\n",
       "      <td>Nov-2006</td>\n",
       "      <td>0</td>\n",
       "      <td>NaN</td>\n",
       "      <td>NaN</td>\n",
       "      <td>16</td>\n",
       "      <td>0</td>\n",
       "      <td>36658</td>\n",
       "    </tr>\n",
       "    <tr>\n",
       "      <th>2</th>\n",
       "      <td>Jul-1998</td>\n",
       "      <td>0</td>\n",
       "      <td>NaN</td>\n",
       "      <td>69.0</td>\n",
       "      <td>7</td>\n",
       "      <td>1</td>\n",
       "      <td>6857</td>\n",
       "    </tr>\n",
       "    <tr>\n",
       "      <th>3</th>\n",
       "      <td>Mar-1982</td>\n",
       "      <td>2</td>\n",
       "      <td>35.0</td>\n",
       "      <td>NaN</td>\n",
       "      <td>12</td>\n",
       "      <td>0</td>\n",
       "      <td>329271</td>\n",
       "    </tr>\n",
       "    <tr>\n",
       "      <th>4</th>\n",
       "      <td>Aug-2005</td>\n",
       "      <td>0</td>\n",
       "      <td>37.0</td>\n",
       "      <td>NaN</td>\n",
       "      <td>16</td>\n",
       "      <td>0</td>\n",
       "      <td>11808</td>\n",
       "    </tr>\n",
       "  </tbody>\n",
       "</table>\n",
       "</div>"
      ],
      "text/plain": [
       "  earliest_cr_line  inq_last_6mths  mths_since_last_delinq  \\\n",
       "0         Jun-1992               0                     NaN   \n",
       "1         Nov-2006               0                     NaN   \n",
       "2         Jul-1998               0                     NaN   \n",
       "3         Mar-1982               2                    35.0   \n",
       "4         Aug-2005               0                    37.0   \n",
       "\n",
       "   mths_since_last_record  open_acc  pub_rec  revol_bal  \n",
       "0                     NaN         9        0      33752  \n",
       "1                     NaN        16        0      36658  \n",
       "2                    69.0         7        1       6857  \n",
       "3                     NaN        12        0     329271  \n",
       "4                     NaN        16        0      11808  "
      ]
     },
     "execution_count": 115,
     "metadata": {},
     "output_type": "execute_result"
    }
   ],
   "source": [
    "df.iloc[:,18:25].head()"
   ]
  },
  {
   "cell_type": "markdown",
   "metadata": {},
   "source": [
    "- earliest_cr_line (earliest credit line) column is important as this will tell us about the oldest creadit history. Also, this will help us t consider if someone is going to get retire or health issue. We will consider this for our analysis."
   ]
  },
  {
   "cell_type": "raw",
   "metadata": {},
   "source": [
    "# I need to correct/work on below part\n",
    "\n",
    "#from datetime import datetime\n",
    "#earliest_cr_line_dt = pd.to_datetime(df.earliest_cr_line.str)\n",
    "#print(df.earliest_cr_line.head())\n",
    "#dttoday = datetime.now().strftime('%Y-%m-%d')\n",
    "#df.dttoday =  dttoday\n",
    "#today_dt = pd.to_datetime(df.dttoday)\n",
    "#print(df.dttoday.head())\n",
    "#df['dateRange'] = \n",
    "#len(pd.date_range(earliest_cr_line_dt,today_dt,freq='M'))\n",
    "#df.dateRange.head()\n",
    "#df.loc[:,['dttoday','earliest_cr_line']].head()"
   ]
  },
  {
   "cell_type": "code",
   "execution_count": 9,
   "metadata": {},
   "outputs": [
    {
     "name": "stderr",
     "output_type": "stream",
     "text": [
      "/Users/neerajsomani/anaconda/envs/env_dsa/lib/python3.6/site-packages/pandas/core/generic.py:3110: SettingWithCopyWarning: \n",
      "A value is trying to be set on a copy of a slice from a DataFrame.\n",
      "Try using .loc[row_indexer,col_indexer] = value instead\n",
      "\n",
      "See the caveats in the documentation: http://pandas.pydata.org/pandas-docs/stable/indexing.html#indexing-view-versus-copy\n",
      "  self[name] = value\n"
     ]
    }
   ],
   "source": [
    "from datetime import datetime\n",
    "\n",
    "df.earliest_cr_line = pd.to_datetime(df.earliest_cr_line)\n",
    "\n",
    "dttoday = datetime.now().strftime('%Y-%m-%d')\n",
    "# There is a better way to do this. Need to check that.\n",
    "df.earliest_cr_line = df.earliest_cr_line.apply(lambda x: (\n",
    "        np.timedelta64((x - pd.Timestamp(dttoday)),'D').astype(int))/-365)\n",
    "\n",
    "#df.earliest_cr_line"
   ]
  },
  {
   "cell_type": "code",
   "execution_count": 136,
   "metadata": {},
   "outputs": [
    {
     "name": "stdout",
     "output_type": "stream",
     "text": [
      "False\n"
     ]
    },
    {
     "data": {
      "text/plain": [
       "0    67430\n",
       "1    26572\n",
       "2     8336\n",
       "3     2197\n",
       "4      687\n",
       "5      229\n",
       "Name: inq_last_6mths, dtype: int64"
      ]
     },
     "execution_count": 136,
     "metadata": {},
     "output_type": "execute_result"
    }
   ],
   "source": [
    "print(df.inq_last_6mths.isnull().any())\n",
    "df.inq_last_6mths.value_counts()"
   ]
  },
  {
   "cell_type": "code",
   "execution_count": 146,
   "metadata": {},
   "outputs": [
    {
     "data": {
      "text/plain": [
       "0"
      ]
     },
     "execution_count": 146,
     "metadata": {},
     "output_type": "execute_result"
    }
   ],
   "source": [
    "df.mths_since_last_delinq.isnull().sum()\n",
    "df.mths_since_last_record.isnull().sum()\n",
    "df.revol_bal.isnull().sum()"
   ]
  },
  {
   "cell_type": "code",
   "execution_count": 10,
   "metadata": {},
   "outputs": [
    {
     "name": "stderr",
     "output_type": "stream",
     "text": [
      "/Users/neerajsomani/anaconda/envs/env_dsa/lib/python3.6/site-packages/ipykernel_launcher.py:2: SettingWithCopyWarning: \n",
      "A value is trying to be set on a copy of a slice from a DataFrame\n",
      "\n",
      "See the caveats in the documentation: http://pandas.pydata.org/pandas-docs/stable/indexing.html#indexing-view-versus-copy\n",
      "  \n"
     ]
    }
   ],
   "source": [
    "# since 50% of the column value is not avialable, lets drop this column\n",
    "df.drop(['mths_since_last_delinq','mths_since_last_record'], axis=1, inplace=True)"
   ]
  },
  {
   "cell_type": "markdown",
   "metadata": {},
   "source": [
    "- Open_acc, pub_rec, and revol_bal is also looking not so important but keeping it for now."
   ]
  },
  {
   "cell_type": "code",
   "execution_count": 151,
   "metadata": {},
   "outputs": [
    {
     "data": {
      "text/html": [
       "<div>\n",
       "<style>\n",
       "    .dataframe thead tr:only-child th {\n",
       "        text-align: right;\n",
       "    }\n",
       "\n",
       "    .dataframe thead th {\n",
       "        text-align: left;\n",
       "    }\n",
       "\n",
       "    .dataframe tbody tr th {\n",
       "        vertical-align: top;\n",
       "    }\n",
       "</style>\n",
       "<table border=\"1\" class=\"dataframe\">\n",
       "  <thead>\n",
       "    <tr style=\"text-align: right;\">\n",
       "      <th></th>\n",
       "      <th>revol_util</th>\n",
       "      <th>total_acc</th>\n",
       "      <th>initial_list_status</th>\n",
       "      <th>out_prncp</th>\n",
       "      <th>out_prncp_inv</th>\n",
       "      <th>total_pymnt</th>\n",
       "      <th>total_pymnt_inv</th>\n",
       "      <th>total_rec_prncp</th>\n",
       "    </tr>\n",
       "  </thead>\n",
       "  <tbody>\n",
       "    <tr>\n",
       "      <th>0</th>\n",
       "      <td>105.8%</td>\n",
       "      <td>26</td>\n",
       "      <td>w</td>\n",
       "      <td>15612.60</td>\n",
       "      <td>15612.60</td>\n",
       "      <td>616.29</td>\n",
       "      <td>616.29</td>\n",
       "      <td>387.40</td>\n",
       "    </tr>\n",
       "    <tr>\n",
       "      <th>1</th>\n",
       "      <td>86.7%</td>\n",
       "      <td>28</td>\n",
       "      <td>w</td>\n",
       "      <td>7820.13</td>\n",
       "      <td>7820.13</td>\n",
       "      <td>258.10</td>\n",
       "      <td>258.10</td>\n",
       "      <td>179.87</td>\n",
       "    </tr>\n",
       "    <tr>\n",
       "      <th>2</th>\n",
       "      <td>12.4%</td>\n",
       "      <td>10</td>\n",
       "      <td>w</td>\n",
       "      <td>25377.05</td>\n",
       "      <td>25377.05</td>\n",
       "      <td>802.24</td>\n",
       "      <td>802.24</td>\n",
       "      <td>622.95</td>\n",
       "    </tr>\n",
       "    <tr>\n",
       "      <th>3</th>\n",
       "      <td>98%</td>\n",
       "      <td>17</td>\n",
       "      <td>w</td>\n",
       "      <td>18771.26</td>\n",
       "      <td>18771.26</td>\n",
       "      <td>461.01</td>\n",
       "      <td>461.01</td>\n",
       "      <td>178.74</td>\n",
       "    </tr>\n",
       "    <tr>\n",
       "      <th>4</th>\n",
       "      <td>48.6%</td>\n",
       "      <td>44</td>\n",
       "      <td>w</td>\n",
       "      <td>9363.06</td>\n",
       "      <td>9363.06</td>\n",
       "      <td>290.07</td>\n",
       "      <td>290.07</td>\n",
       "      <td>236.94</td>\n",
       "    </tr>\n",
       "  </tbody>\n",
       "</table>\n",
       "</div>"
      ],
      "text/plain": [
       "  revol_util  total_acc initial_list_status  out_prncp  out_prncp_inv  \\\n",
       "0     105.8%         26                   w   15612.60       15612.60   \n",
       "1      86.7%         28                   w    7820.13        7820.13   \n",
       "2      12.4%         10                   w   25377.05       25377.05   \n",
       "3        98%         17                   w   18771.26       18771.26   \n",
       "4      48.6%         44                   w    9363.06        9363.06   \n",
       "\n",
       "   total_pymnt  total_pymnt_inv  total_rec_prncp  \n",
       "0       616.29           616.29           387.40  \n",
       "1       258.10           258.10           179.87  \n",
       "2       802.24           802.24           622.95  \n",
       "3       461.01           461.01           178.74  \n",
       "4       290.07           290.07           236.94  "
      ]
     },
     "execution_count": 151,
     "metadata": {},
     "output_type": "execute_result"
    }
   ],
   "source": [
    "df.iloc[:,23:31].head()"
   ]
  },
  {
   "cell_type": "code",
   "execution_count": 11,
   "metadata": {},
   "outputs": [
    {
     "name": "stderr",
     "output_type": "stream",
     "text": [
      "/Users/neerajsomani/anaconda/envs/env_dsa/lib/python3.6/site-packages/ipykernel_launcher.py:7: SettingWithCopyWarning: \n",
      "A value is trying to be set on a copy of a slice from a DataFrame\n",
      "\n",
      "See the caveats in the documentation: http://pandas.pydata.org/pandas-docs/stable/indexing.html#indexing-view-versus-copy\n",
      "  import sys\n"
     ]
    }
   ],
   "source": [
    "# Below are the list of fields that are post loan attributes, so lets drop all of them for now.\n",
    "\n",
    "df.drop(['out_prncp','out_prncp_inv','total_pymnt', 'total_pymnt_inv','total_rec_prncp', \n",
    "         'grade', 'sub_grade', 'total_rec_int','total_rec_late_fee',\n",
    "         'recoveries','collection_recovery_fee',\n",
    "         'collection_recovery_fee', 'last_pymnt_d','last_pymnt_amnt',\n",
    "         'next_pymnt_d','last_credit_pull_d'] ,1, inplace=True)"
   ]
  },
  {
   "cell_type": "code",
   "execution_count": 12,
   "metadata": {},
   "outputs": [
    {
     "name": "stderr",
     "output_type": "stream",
     "text": [
      "/Users/neerajsomani/anaconda/envs/env_dsa/lib/python3.6/site-packages/pandas/core/indexing.py:517: SettingWithCopyWarning: \n",
      "A value is trying to be set on a copy of a slice from a DataFrame.\n",
      "Try using .loc[row_indexer,col_indexer] = value instead\n",
      "\n",
      "See the caveats in the documentation: http://pandas.pydata.org/pandas-docs/stable/indexing.html#indexing-view-versus-copy\n",
      "  self.obj[item] = s\n"
     ]
    },
    {
     "data": {
      "text/plain": [
       "dtype('float64')"
      ]
     },
     "execution_count": 12,
     "metadata": {},
     "output_type": "execute_result"
    }
   ],
   "source": [
    "df.loc[:,'revol_util'] = df.loc[:,'revol_util'].str.replace('%', '').astype(float)\n",
    "df.revol_util.dtype"
   ]
  },
  {
   "cell_type": "code",
   "execution_count": 170,
   "metadata": {},
   "outputs": [
    {
     "data": {
      "text/plain": [
       "revol_bal_joint                         98645\n",
       "sec_app_earliest_cr_line                98645\n",
       "sec_app_inq_last_6mths                  98645\n",
       "sec_app_mort_acc                        98645\n",
       "sec_app_open_acc                        98645\n",
       "sec_app_revol_util                      98722\n",
       "sec_app_open_il_6m                      98645\n",
       "sec_app_num_rev_accts                   98645\n",
       "sec_app_chargeoff_within_12_mths        98645\n",
       "sec_app_collections_12_mths_ex_med      98645\n",
       "sec_app_mths_since_last_major_derog    103117\n",
       "dtype: int64"
      ]
     },
     "execution_count": 170,
     "metadata": {},
     "output_type": "execute_result"
    }
   ],
   "source": [
    "df.iloc[:,-13:-2].isnull().sum()"
   ]
  },
  {
   "cell_type": "markdown",
   "metadata": {},
   "source": [
    "- since more than 70% of the values are null and credit score is not availbale, we are droping above columns from our analysis."
   ]
  },
  {
   "cell_type": "code",
   "execution_count": 13,
   "metadata": {},
   "outputs": [
    {
     "name": "stderr",
     "output_type": "stream",
     "text": [
      "/Users/neerajsomani/anaconda/envs/env_dsa/lib/python3.6/site-packages/ipykernel_launcher.py:8: SettingWithCopyWarning: \n",
      "A value is trying to be set on a copy of a slice from a DataFrame\n",
      "\n",
      "See the caveats in the documentation: http://pandas.pydata.org/pandas-docs/stable/indexing.html#indexing-view-versus-copy\n",
      "  \n"
     ]
    }
   ],
   "source": [
    "df.drop(['revol_bal_joint',\n",
    "       'sec_app_earliest_cr_line', 'sec_app_inq_last_6mths',\n",
    "       'sec_app_mort_acc', 'sec_app_open_acc', 'sec_app_revol_util',\n",
    "       'sec_app_open_il_6m', 'sec_app_num_rev_accts',\n",
    "       'sec_app_chargeoff_within_12_mths',\n",
    "       'sec_app_collections_12_mths_ex_med',\n",
    "       'sec_app_mths_since_last_major_derog', 'initial_list_status', 'hardship_flag','annual_inc_joint', 'dti_joint', 'verification_status_joint', \n",
    "        'mths_since_last_major_derog'], 1, inplace=True)"
   ]
  },
  {
   "cell_type": "code",
   "execution_count": 14,
   "metadata": {},
   "outputs": [
    {
     "name": "stdout",
     "output_type": "stream",
     "text": [
      "['loan_amnt', 'funded_amnt', 'funded_amnt_inv', 'term', 'int_rate', 'installment', 'emp_length', 'home_ownership', 'annual_inc', 'verification_status', 'issue_d', 'loan_status', 'zip_code', 'addr_state', 'dti', 'delinq_2yrs', 'earliest_cr_line', 'inq_last_6mths', 'open_acc', 'pub_rec', 'revol_bal', 'revol_util', 'total_acc', 'collections_12_mths_ex_med', 'policy_code', 'application_type', 'acc_now_delinq', 'tot_coll_amt', 'tot_cur_bal', 'open_acc_6m', 'open_il_6m', 'open_il_12m', 'open_il_24m', 'mths_since_rcnt_il', 'total_bal_il', 'il_util', 'open_rv_12m', 'open_rv_24m', 'max_bal_bc', 'all_util', 'total_rev_hi_lim', 'inq_fi', 'total_cu_tl', 'inq_last_12m', 'acc_open_past_24mths', 'avg_cur_bal', 'bc_open_to_buy', 'bc_util', 'chargeoff_within_12_mths', 'delinq_amnt', 'mo_sin_old_il_acct', 'mo_sin_old_rev_tl_op', 'mo_sin_rcnt_rev_tl_op', 'mo_sin_rcnt_tl', 'mort_acc', 'mths_since_recent_bc', 'mths_since_recent_bc_dlq', 'mths_since_recent_inq', 'mths_since_recent_revol_delinq', 'num_accts_ever_120_pd', 'num_actv_bc_tl', 'num_actv_rev_tl', 'num_bc_sats', 'num_bc_tl', 'num_il_tl', 'num_op_rev_tl', 'num_rev_accts', 'num_rev_tl_bal_gt_0', 'num_sats', 'num_tl_120dpd_2m', 'num_tl_30dpd', 'num_tl_90g_dpd_24m', 'num_tl_op_past_12m', 'pct_tl_nvr_dlq', 'percent_bc_gt_75', 'pub_rec_bankruptcies', 'tax_liens', 'tot_hi_cred_lim', 'total_bal_ex_mort', 'total_bc_limit', 'total_il_high_credit_limit']\n",
      "Total columns:  81\n"
     ]
    }
   ],
   "source": [
    "print(df.columns.tolist())\n",
    "print('Total columns: ' ,len(df.columns.tolist()))"
   ]
  },
  {
   "cell_type": "code",
   "execution_count": 15,
   "metadata": {},
   "outputs": [
    {
     "name": "stderr",
     "output_type": "stream",
     "text": [
      "/Users/neerajsomani/anaconda/envs/env_dsa/lib/python3.6/site-packages/pandas/core/frame.py:2754: SettingWithCopyWarning: \n",
      "A value is trying to be set on a copy of a slice from a DataFrame\n",
      "\n",
      "See the caveats in the documentation: http://pandas.pydata.org/pandas-docs/stable/indexing.html#indexing-view-versus-copy\n",
      "  downcast=downcast, **kwargs)\n"
     ]
    }
   ],
   "source": [
    "df.fillna(0.0,inplace=True)\n",
    "df.fillna(0,inplace=True)"
   ]
  },
  {
   "cell_type": "markdown",
   "metadata": {},
   "source": [
    "# Overall Analysis so far:\n",
    "So far as part of Data munging, I have tried to work on following points:\n",
    "\n",
    "- Addressed missing data\n",
    "- Converted strings to numerical representations where possible\n",
    "- Dropped superfluous attributes\n"
   ]
  },
  {
   "cell_type": "markdown",
   "metadata": {},
   "source": [
    "# Lets plot a correlation matrix to understand it more"
   ]
  },
  {
   "cell_type": "code",
   "execution_count": 30,
   "metadata": {},
   "outputs": [
    {
     "data": {
      "image/png": "[encoded data removed]",
      "text/plain": [
       "<matplotlib.figure.Figure at 0x118823710>"
      ]
     },
     "metadata": {},
     "output_type": "display_data"
    }
   ],
   "source": [
    "import matplotlib.pyplot as plt\n",
    "\n",
    "fig = plt.figure(figsize=(20,10))\n",
    "ax = fig.add_subplot(111)\n",
    "cax = ax.matshow(df.corr())\n",
    "fig.colorbar(cax)\n",
    "ticks = np.arange(0,80)\n",
    "ax.set_xticks(ticks)\n",
    "ax.set_yticks(ticks)\n",
    "ax.set_xticklabels(df.columns, rotation='vertical')\n",
    "ax.set_yticklabels(df.columns)\n",
    "plt.show()"
   ]
  },
  {
   "cell_type": "markdown",
   "metadata": {},
   "source": [
    "# Highly correlated Data\n",
    "Let's examine our dataframes correlation matrix and drop highly correlated/redundant data to address multicollinearity."
   ]
  },
  {
   "cell_type": "code",
   "execution_count": 36,
   "metadata": {},
   "outputs": [
    {
     "data": {
      "text/plain": [
       "funded_amnt                     loan_amnt                   1.000000\n",
       "funded_amnt_inv                 loan_amnt                   0.999995\n",
       "                                funded_amnt                 0.999995\n",
       "installment                     loan_amnt                   0.947774\n",
       "                                funded_amnt                 0.947774\n",
       "                                funded_amnt_inv             0.947644\n",
       "total_acc                       open_acc                    0.729980\n",
       "open_il_24m                     open_il_12m                 0.702409\n",
       "open_rv_12m                     open_acc_6m                 0.628321\n",
       "open_rv_24m                     open_rv_12m                 0.772020\n",
       "max_bal_bc                      revol_bal                   0.561012\n",
       "all_util                        revol_util                  0.651157\n",
       "total_rev_hi_lim                revol_bal                   0.814604\n",
       "inq_last_12m                    inq_fi                      0.556817\n",
       "acc_open_past_24mths            open_rv_12m                 0.661371\n",
       "                                open_rv_24m                 0.857462\n",
       "avg_cur_bal                     tot_cur_bal                 0.831301\n",
       "bc_open_to_buy                  total_rev_hi_lim            0.656075\n",
       "bc_util                         revol_util                  0.850647\n",
       "                                all_util                    0.569193\n",
       "mo_sin_old_rev_tl_op            earliest_cr_line            0.909526\n",
       "mo_sin_rcnt_tl                  mo_sin_rcnt_rev_tl_op       0.598471\n",
       "mort_acc                        tot_cur_bal                 0.566487\n",
       "mths_since_recent_bc            mo_sin_rcnt_rev_tl_op       0.604531\n",
       "mths_since_recent_revol_delinq  mths_since_recent_bc_dlq    0.739287\n",
       "num_actv_bc_tl                  open_acc                    0.562622\n",
       "num_actv_rev_tl                 open_acc                    0.667203\n",
       "                                num_actv_bc_tl              0.824801\n",
       "num_bc_sats                     open_acc                    0.640302\n",
       "                                num_actv_bc_tl              0.839934\n",
       "                                                              ...   \n",
       "num_sats                        num_actv_bc_tl              0.560451\n",
       "                                num_actv_rev_tl             0.662324\n",
       "                                num_bc_sats                 0.636476\n",
       "                                num_bc_tl                   0.559048\n",
       "                                num_op_rev_tl               0.830700\n",
       "                                num_rev_accts               0.676599\n",
       "                                num_rev_tl_bal_gt_0         0.667411\n",
       "num_tl_30dpd                    acc_now_delinq              0.791638\n",
       "num_tl_90g_dpd_24m              delinq_2yrs                 0.674204\n",
       "num_tl_op_past_12m              open_acc_6m                 0.701092\n",
       "                                open_rv_12m                 0.859800\n",
       "                                open_rv_24m                 0.666884\n",
       "                                acc_open_past_24mths        0.759360\n",
       "pct_tl_nvr_dlq                  num_accts_ever_120_pd      -0.596071\n",
       "percent_bc_gt_75                revol_util                  0.727593\n",
       "                                bc_util                     0.843076\n",
       "pub_rec_bankruptcies            pub_rec                     0.614929\n",
       "tax_liens                       pub_rec                     0.712401\n",
       "tot_hi_cred_lim                 tot_cur_bal                 0.983478\n",
       "                                avg_cur_bal                 0.797381\n",
       "                                mort_acc                    0.579178\n",
       "total_bal_ex_mort               total_bal_il                0.902341\n",
       "total_bc_limit                  max_bal_bc                  0.581503\n",
       "                                total_rev_hi_lim            0.798994\n",
       "                                bc_open_to_buy              0.848246\n",
       "                                num_bc_sats                 0.632215\n",
       "                                num_bc_tl                   0.569497\n",
       "total_il_high_credit_limit      total_bal_il                0.948925\n",
       "                                num_il_tl                   0.574117\n",
       "                                total_bal_ex_mort           0.885370\n",
       "Length: 89, dtype: float64"
      ]
     },
     "execution_count": 36,
     "metadata": {},
     "output_type": "execute_result"
    }
   ],
   "source": [
    "cor = df.corr()\n",
    "cor.loc[:,:] = np.tril(cor, k=-1) # below main lower triangle of an array\n",
    "cor = cor.stack()\n",
    "cor[(cor > 0.55) | (cor < -0.55)]"
   ]
  },
  {
   "cell_type": "markdown",
   "metadata": {},
   "source": [
    "# Lets note down few points here to understand and drop not needed columns.\n",
    "- As you can see, funded_amnt, funded_amnt_inv, and installment is closely related to loan_amnt. Which means whatever the loan amount was requested was considered closely to funded amount. and installment is after getting loan amount. So, we can drop these 3 fields for our analysis.\n",
    "- total_acc is closely related to open_acc. Lets keep open_acc.\n",
    "- Let's keep 'open_il_24m' and 'open_rv_24m' and drop all other correlated columns. 24 month history is enough for this analysis.\n",
    "- Lets keep revol_bal. drop max_bal_bc, total_rev_hi_lim, \n",
    "- lets keep all_util, and drop revol_util and bc_util. We need check again about il_util later.\n",
    "- Lets keep 'acc_now_delinq', all other delinq related info can be dropped.\n",
    "- Lets keep pub_rec, and drop pub_rec_bankruptcies, tax_liens"
   ]
  },
  {
   "cell_type": "code",
   "execution_count": 16,
   "metadata": {},
   "outputs": [
    {
     "name": "stderr",
     "output_type": "stream",
     "text": [
      "/Users/neerajsomani/anaconda/envs/env_dsa/lib/python3.6/site-packages/ipykernel_launcher.py:9: SettingWithCopyWarning: \n",
      "A value is trying to be set on a copy of a slice from a DataFrame\n",
      "\n",
      "See the caveats in the documentation: http://pandas.pydata.org/pandas-docs/stable/indexing.html#indexing-view-versus-copy\n",
      "  if __name__ == '__main__':\n"
     ]
    }
   ],
   "source": [
    "df.drop(['funded_amnt', 'funded_amnt_inv','installment', 'total_acc','open_il_12m', \n",
    "         'open_rv_12m' , 'max_bal_bc', 'revol_util', 'bc_util', 'total_rev_hi_lim',\n",
    "         'acc_open_past_24mths' , 'inq_last_12m', 'avg_cur_bal', 'bc_open_to_buy', \n",
    "       'mo_sin_rcnt_rev_tl_op', 'mo_sin_rcnt_tl' , 'mort_acc', 'mths_since_recent_bc', \n",
    "        'mths_since_recent_revol_delinq', 'mths_since_recent_bc_dlq', 'num_actv_bc_tl',\n",
    "        'num_actv_rev_tl', 'num_bc_sats', 'num_bc_tl', 'num_rev_tl_bal_gt_0', 'num_op_rev_tl',\n",
    "        'num_tl_op_past_12m', 'open_acc_6m', 'num_tl_30dpd', 'num_tl_90g_dpd_24m', \n",
    "         'num_tl_120dpd_2m', 'num_accts_ever_120_pd', 'percent_bc_gt_75', 'total_bal_ex_mort',\n",
    "        'total_bc_limit', 'total_il_high_credit_limit'],1,inplace=True)"
   ]
  },
  {
   "cell_type": "code",
   "execution_count": 38,
   "metadata": {},
   "outputs": [
    {
     "name": "stdout",
     "output_type": "stream",
     "text": [
      "<class 'pandas.core.frame.DataFrame'>\n",
      "RangeIndex: 105451 entries, 0 to 105450\n",
      "Data columns (total 45 columns):\n",
      "loan_amnt                     105451 non-null int64\n",
      "term                          105451 non-null object\n",
      "int_rate                      105451 non-null float64\n",
      "emp_length                    105451 non-null object\n",
      "home_ownership                105451 non-null object\n",
      "annual_inc                    105451 non-null float64\n",
      "verification_status           105451 non-null object\n",
      "issue_d                       105451 non-null object\n",
      "loan_status                   105451 non-null object\n",
      "zip_code                      105451 non-null object\n",
      "addr_state                    105451 non-null object\n",
      "dti                           105451 non-null float64\n",
      "delinq_2yrs                   105451 non-null int64\n",
      "earliest_cr_line              105451 non-null float64\n",
      "inq_last_6mths                105451 non-null int64\n",
      "open_acc                      105451 non-null int64\n",
      "pub_rec                       105451 non-null int64\n",
      "revol_bal                     105451 non-null int64\n",
      "collections_12_mths_ex_med    105451 non-null int64\n",
      "policy_code                   105451 non-null int64\n",
      "application_type              105451 non-null object\n",
      "acc_now_delinq                105451 non-null int64\n",
      "tot_coll_amt                  105451 non-null int64\n",
      "tot_cur_bal                   105451 non-null int64\n",
      "open_il_6m                    105451 non-null int64\n",
      "open_il_24m                   105451 non-null int64\n",
      "mths_since_rcnt_il            105451 non-null float64\n",
      "total_bal_il                  105451 non-null int64\n",
      "il_util                       105451 non-null float64\n",
      "open_rv_24m                   105451 non-null int64\n",
      "all_util                      105451 non-null float64\n",
      "inq_fi                        105451 non-null int64\n",
      "total_cu_tl                   105451 non-null int64\n",
      "chargeoff_within_12_mths      105451 non-null int64\n",
      "delinq_amnt                   105451 non-null int64\n",
      "mo_sin_old_il_acct            105451 non-null float64\n",
      "mo_sin_old_rev_tl_op          105451 non-null int64\n",
      "mths_since_recent_inq         105451 non-null float64\n",
      "num_il_tl                     105451 non-null int64\n",
      "num_rev_accts                 105451 non-null int64\n",
      "num_sats                      105451 non-null int64\n",
      "pct_tl_nvr_dlq                105451 non-null float64\n",
      "pub_rec_bankruptcies          105451 non-null int64\n",
      "tax_liens                     105451 non-null int64\n",
      "tot_hi_cred_lim               105451 non-null int64\n",
      "dtypes: float64(10), int64(26), object(9)\n",
      "memory usage: 36.2+ MB\n"
     ]
    }
   ],
   "source": [
    "df.info()"
   ]
  },
  {
   "cell_type": "code",
   "execution_count": 39,
   "metadata": {},
   "outputs": [
    {
     "data": {
      "text/plain": [
       "mo_sin_old_rev_tl_op  earliest_cr_line    0.909526\n",
       "num_il_tl             open_il_6m          0.645738\n",
       "                      total_bal_il        0.583650\n",
       "num_rev_accts         open_acc            0.681920\n",
       "num_sats              open_acc            0.998727\n",
       "                      num_rev_accts       0.676599\n",
       "pub_rec_bankruptcies  pub_rec             0.614929\n",
       "tax_liens             pub_rec             0.712401\n",
       "tot_hi_cred_lim       tot_cur_bal         0.983478\n",
       "dtype: float64"
      ]
     },
     "execution_count": 39,
     "metadata": {},
     "output_type": "execute_result"
    }
   ],
   "source": [
    "cor = df.corr()\n",
    "cor.loc[:,:] = np.tril(cor, k=-1) # below main lower triangle of an array\n",
    "cor = cor.stack()\n",
    "cor[(cor > 0.55) | (cor < -0.55)]"
   ]
  },
  {
   "cell_type": "code",
   "execution_count": 17,
   "metadata": {},
   "outputs": [
    {
     "name": "stderr",
     "output_type": "stream",
     "text": [
      "/Users/neerajsomani/anaconda/envs/env_dsa/lib/python3.6/site-packages/ipykernel_launcher.py:1: SettingWithCopyWarning: \n",
      "A value is trying to be set on a copy of a slice from a DataFrame\n",
      "\n",
      "See the caveats in the documentation: http://pandas.pydata.org/pandas-docs/stable/indexing.html#indexing-view-versus-copy\n",
      "  \"\"\"Entry point for launching an IPython kernel.\n"
     ]
    }
   ],
   "source": [
    "df.drop(['pub_rec_bankruptcies', 'tax_liens', 'num_rev_accts', 'tot_hi_cred_lim', 'policy_code'],1,inplace=True)"
   ]
  },
  {
   "cell_type": "code",
   "execution_count": 41,
   "metadata": {},
   "outputs": [
    {
     "data": {
      "text/plain": [
       "mo_sin_old_rev_tl_op  earliest_cr_line    0.909526\n",
       "num_il_tl             open_il_6m          0.645738\n",
       "                      total_bal_il        0.583650\n",
       "num_sats              open_acc            0.998727\n",
       "dtype: float64"
      ]
     },
     "execution_count": 41,
     "metadata": {},
     "output_type": "execute_result"
    }
   ],
   "source": [
    "cor = df.corr()\n",
    "cor.loc[:,:] = np.tril(cor, k=-1) # below main lower triangle of an array\n",
    "cor = cor.stack()\n",
    "cor[(cor > 0.55) | (cor < -0.55)]"
   ]
  },
  {
   "cell_type": "markdown",
   "metadata": {},
   "source": [
    "# Lets plot correlation matrix again"
   ]
  },
  {
   "cell_type": "code",
   "execution_count": 23,
   "metadata": {},
   "outputs": [
    {
     "data": {
      "image/png": "[encoded data removed]",
      "text/plain": [
       "<matplotlib.figure.Figure at 0x110deef28>"
      ]
     },
     "metadata": {},
     "output_type": "display_data"
    }
   ],
   "source": [
    "import matplotlib.pyplot as plt\n",
    "\n",
    "fig = plt.figure(figsize=(20,10))\n",
    "ax = fig.add_subplot(111)\n",
    "cax = ax.matshow(df.corr())\n",
    "fig.colorbar(cax)\n",
    "ticks = np.arange(0,40)\n",
    "ax.set_xticks(ticks)\n",
    "ax.set_yticks(ticks)\n",
    "ax.set_xticklabels(df.columns, rotation='vertical')\n",
    "ax.set_yticklabels(df.columns)\n",
    "plt.show()"
   ]
  },
  {
   "cell_type": "markdown",
   "metadata": {},
   "source": [
    "# Not sure about few columns:\n",
    "- we dont need these columns, kind of. collections_12_mths_ex_med, mths_since_rcnt_il, total_cu_tl, chargeoff_within_12_mths\n",
    "- open_il_6m, open_il_24m (see below for these 2). value comparison doesn't make sense.\n",
    "- il_util is ratio, but not clear about all_util (it looks like). we can keep only all_util.\n",
    "- open_acc, num_sats not sure what to do.\n",
    "- I think I can drop column loan_status as well. This is after the loan amount gets approved or defaulted. Its not helpful for predicting default loan amount and int_rate."
   ]
  },
  {
   "cell_type": "code",
   "execution_count": 43,
   "metadata": {},
   "outputs": [
    {
     "data": {
      "text/html": [
       "<div>\n",
       "<style>\n",
       "    .dataframe thead tr:only-child th {\n",
       "        text-align: right;\n",
       "    }\n",
       "\n",
       "    .dataframe thead th {\n",
       "        text-align: left;\n",
       "    }\n",
       "\n",
       "    .dataframe tbody tr th {\n",
       "        vertical-align: top;\n",
       "    }\n",
       "</style>\n",
       "<table border=\"1\" class=\"dataframe\">\n",
       "  <thead>\n",
       "    <tr style=\"text-align: right;\">\n",
       "      <th></th>\n",
       "      <th>open_il_6m</th>\n",
       "      <th>open_il_24m</th>\n",
       "      <th>open_acc</th>\n",
       "      <th>num_sats</th>\n",
       "    </tr>\n",
       "  </thead>\n",
       "  <tbody>\n",
       "    <tr>\n",
       "      <th>0</th>\n",
       "      <td>1</td>\n",
       "      <td>0</td>\n",
       "      <td>9</td>\n",
       "      <td>9</td>\n",
       "    </tr>\n",
       "    <tr>\n",
       "      <th>1</th>\n",
       "      <td>5</td>\n",
       "      <td>2</td>\n",
       "      <td>16</td>\n",
       "      <td>16</td>\n",
       "    </tr>\n",
       "    <tr>\n",
       "      <th>2</th>\n",
       "      <td>2</td>\n",
       "      <td>0</td>\n",
       "      <td>7</td>\n",
       "      <td>7</td>\n",
       "    </tr>\n",
       "    <tr>\n",
       "      <th>3</th>\n",
       "      <td>2</td>\n",
       "      <td>1</td>\n",
       "      <td>12</td>\n",
       "      <td>12</td>\n",
       "    </tr>\n",
       "    <tr>\n",
       "      <th>4</th>\n",
       "      <td>5</td>\n",
       "      <td>3</td>\n",
       "      <td>16</td>\n",
       "      <td>16</td>\n",
       "    </tr>\n",
       "    <tr>\n",
       "      <th>5</th>\n",
       "      <td>4</td>\n",
       "      <td>4</td>\n",
       "      <td>9</td>\n",
       "      <td>9</td>\n",
       "    </tr>\n",
       "  </tbody>\n",
       "</table>\n",
       "</div>"
      ],
      "text/plain": [
       "   open_il_6m  open_il_24m  open_acc  num_sats\n",
       "0           1            0         9         9\n",
       "1           5            2        16        16\n",
       "2           2            0         7         7\n",
       "3           2            1        12        12\n",
       "4           5            3        16        16\n",
       "5           4            4         9         9"
      ]
     },
     "execution_count": 43,
     "metadata": {},
     "output_type": "execute_result"
    }
   ],
   "source": [
    "df.loc[0:5,['open_il_6m', 'open_il_24m', 'open_acc', 'num_sats']]"
   ]
  },
  {
   "cell_type": "markdown",
   "metadata": {},
   "source": [
    "# Not sure do we have to apply PCA and LDA in our analysis"
   ]
  },
  {
   "cell_type": "code",
   "execution_count": 49,
   "metadata": {},
   "outputs": [
    {
     "data": {
      "text/html": [
       "<div>\n",
       "<style>\n",
       "    .dataframe thead tr:only-child th {\n",
       "        text-align: right;\n",
       "    }\n",
       "\n",
       "    .dataframe thead th {\n",
       "        text-align: left;\n",
       "    }\n",
       "\n",
       "    .dataframe tbody tr th {\n",
       "        vertical-align: top;\n",
       "    }\n",
       "</style>\n",
       "<table border=\"1\" class=\"dataframe\">\n",
       "  <thead>\n",
       "    <tr style=\"text-align: right;\">\n",
       "      <th></th>\n",
       "      <th>loan_amnt</th>\n",
       "      <th>term</th>\n",
       "      <th>int_rate</th>\n",
       "      <th>emp_length</th>\n",
       "      <th>home_ownership</th>\n",
       "      <th>annual_inc</th>\n",
       "      <th>verification_status</th>\n",
       "      <th>issue_d</th>\n",
       "      <th>loan_status</th>\n",
       "      <th>zip_code</th>\n",
       "      <th>...</th>\n",
       "      <th>inq_fi</th>\n",
       "      <th>total_cu_tl</th>\n",
       "      <th>chargeoff_within_12_mths</th>\n",
       "      <th>delinq_amnt</th>\n",
       "      <th>mo_sin_old_il_acct</th>\n",
       "      <th>mo_sin_old_rev_tl_op</th>\n",
       "      <th>mths_since_recent_inq</th>\n",
       "      <th>num_il_tl</th>\n",
       "      <th>num_sats</th>\n",
       "      <th>pct_tl_nvr_dlq</th>\n",
       "    </tr>\n",
       "  </thead>\n",
       "  <tbody>\n",
       "    <tr>\n",
       "      <th>0</th>\n",
       "      <td>16000</td>\n",
       "      <td>60 months</td>\n",
       "      <td>12.62</td>\n",
       "      <td>10</td>\n",
       "      <td>MORTGAGE</td>\n",
       "      <td>94000.0</td>\n",
       "      <td>Not Verified</td>\n",
       "      <td>Jun</td>\n",
       "      <td>Current</td>\n",
       "      <td>021xx</td>\n",
       "      <td>...</td>\n",
       "      <td>0</td>\n",
       "      <td>6</td>\n",
       "      <td>0</td>\n",
       "      <td>0</td>\n",
       "      <td>26.0</td>\n",
       "      <td>300</td>\n",
       "      <td>8.0</td>\n",
       "      <td>1</td>\n",
       "      <td>9</td>\n",
       "      <td>100.0</td>\n",
       "    </tr>\n",
       "    <tr>\n",
       "      <th>1</th>\n",
       "      <td>8000</td>\n",
       "      <td>36 months</td>\n",
       "      <td>14.08</td>\n",
       "      <td>9</td>\n",
       "      <td>RENT</td>\n",
       "      <td>120000.0</td>\n",
       "      <td>Verified</td>\n",
       "      <td>Jun</td>\n",
       "      <td>Current</td>\n",
       "      <td>070xx</td>\n",
       "      <td>...</td>\n",
       "      <td>1</td>\n",
       "      <td>0</td>\n",
       "      <td>0</td>\n",
       "      <td>0</td>\n",
       "      <td>118.0</td>\n",
       "      <td>127</td>\n",
       "      <td>13.0</td>\n",
       "      <td>14</td>\n",
       "      <td>16</td>\n",
       "      <td>100.0</td>\n",
       "    </tr>\n",
       "    <tr>\n",
       "      <th>2</th>\n",
       "      <td>26000</td>\n",
       "      <td>36 months</td>\n",
       "      <td>9.93</td>\n",
       "      <td>7</td>\n",
       "      <td>OWN</td>\n",
       "      <td>57900.0</td>\n",
       "      <td>Not Verified</td>\n",
       "      <td>Jun</td>\n",
       "      <td>Current</td>\n",
       "      <td>198xx</td>\n",
       "      <td>...</td>\n",
       "      <td>1</td>\n",
       "      <td>0</td>\n",
       "      <td>0</td>\n",
       "      <td>0</td>\n",
       "      <td>153.0</td>\n",
       "      <td>227</td>\n",
       "      <td>22.0</td>\n",
       "      <td>5</td>\n",
       "      <td>7</td>\n",
       "      <td>100.0</td>\n",
       "    </tr>\n",
       "    <tr>\n",
       "      <th>3</th>\n",
       "      <td>18950</td>\n",
       "      <td>60 months</td>\n",
       "      <td>21.45</td>\n",
       "      <td>1</td>\n",
       "      <td>MORTGAGE</td>\n",
       "      <td>130000.0</td>\n",
       "      <td>Verified</td>\n",
       "      <td>Jun</td>\n",
       "      <td>Current</td>\n",
       "      <td>950xx</td>\n",
       "      <td>...</td>\n",
       "      <td>0</td>\n",
       "      <td>0</td>\n",
       "      <td>0</td>\n",
       "      <td>0</td>\n",
       "      <td>46.0</td>\n",
       "      <td>423</td>\n",
       "      <td>0.0</td>\n",
       "      <td>2</td>\n",
       "      <td>12</td>\n",
       "      <td>88.0</td>\n",
       "    </tr>\n",
       "    <tr>\n",
       "      <th>4</th>\n",
       "      <td>9600</td>\n",
       "      <td>36 months</td>\n",
       "      <td>7.97</td>\n",
       "      <td>1</td>\n",
       "      <td>OWN</td>\n",
       "      <td>140000.0</td>\n",
       "      <td>Not Verified</td>\n",
       "      <td>Jun</td>\n",
       "      <td>Current</td>\n",
       "      <td>880xx</td>\n",
       "      <td>...</td>\n",
       "      <td>1</td>\n",
       "      <td>3</td>\n",
       "      <td>0</td>\n",
       "      <td>0</td>\n",
       "      <td>132.0</td>\n",
       "      <td>135</td>\n",
       "      <td>3.0</td>\n",
       "      <td>29</td>\n",
       "      <td>16</td>\n",
       "      <td>93.2</td>\n",
       "    </tr>\n",
       "  </tbody>\n",
       "</table>\n",
       "<p>5 rows × 40 columns</p>\n",
       "</div>"
      ],
      "text/plain": [
       "   loan_amnt        term  int_rate emp_length home_ownership  annual_inc  \\\n",
       "0      16000   60 months     12.62         10       MORTGAGE     94000.0   \n",
       "1       8000   36 months     14.08          9           RENT    120000.0   \n",
       "2      26000   36 months      9.93          7            OWN     57900.0   \n",
       "3      18950   60 months     21.45          1       MORTGAGE    130000.0   \n",
       "4       9600   36 months      7.97          1            OWN    140000.0   \n",
       "\n",
       "  verification_status issue_d loan_status zip_code      ...       inq_fi  \\\n",
       "0        Not Verified     Jun     Current    021xx      ...            0   \n",
       "1            Verified     Jun     Current    070xx      ...            1   \n",
       "2        Not Verified     Jun     Current    198xx      ...            1   \n",
       "3            Verified     Jun     Current    950xx      ...            0   \n",
       "4        Not Verified     Jun     Current    880xx      ...            1   \n",
       "\n",
       "   total_cu_tl  chargeoff_within_12_mths  delinq_amnt  mo_sin_old_il_acct  \\\n",
       "0            6                         0            0                26.0   \n",
       "1            0                         0            0               118.0   \n",
       "2            0                         0            0               153.0   \n",
       "3            0                         0            0                46.0   \n",
       "4            3                         0            0               132.0   \n",
       "\n",
       "   mo_sin_old_rev_tl_op  mths_since_recent_inq  num_il_tl  num_sats  \\\n",
       "0                   300                    8.0          1         9   \n",
       "1                   127                   13.0         14        16   \n",
       "2                   227                   22.0          5         7   \n",
       "3                   423                    0.0          2        12   \n",
       "4                   135                    3.0         29        16   \n",
       "\n",
       "  pct_tl_nvr_dlq  \n",
       "0          100.0  \n",
       "1          100.0  \n",
       "2          100.0  \n",
       "3           88.0  \n",
       "4           93.2  \n",
       "\n",
       "[5 rows x 40 columns]"
      ]
     },
     "execution_count": 49,
     "metadata": {},
     "output_type": "execute_result"
    }
   ],
   "source": [
    "df.head()"
   ]
  },
  {
   "cell_type": "markdown",
   "metadata": {},
   "source": [
    "# Lets do feature selection based on below 4 points. Some basic methods from a mathematics perspective:\n",
    "# feature selection based on Lecture Notes\n",
    "- Removing features with low variance\n",
    "- Univariate feature selection (using sklearn feature selection lib)\n",
    "- L1/L2-based feature selection (using Ridge, Lasso, ElasticNet regression {L1 penalty, L2 penalty})\n",
    "- Tree-based feature selection \n",
    "---------------------------------------\n",
    "- Grid Search CV (cross validation)\n",
    "- table plot - check"
   ]
  },
  {
   "cell_type": "code",
   "execution_count": 1,
   "metadata": {},
   "outputs": [
    {
     "ename": "NameError",
     "evalue": "name 'df' is not defined",
     "output_type": "error",
     "traceback": [
      "\u001b[0;31m---------------------------------------------------------------------------\u001b[0m",
      "\u001b[0;31mNameError\u001b[0m                                 Traceback (most recent call last)",
      "\u001b[0;32m<ipython-input-1-857958930b27>\u001b[0m in \u001b[0;36m<module>\u001b[0;34m()\u001b[0m\n\u001b[0;32m----> 1\u001b[0;31m \u001b[0mdf\u001b[0m\u001b[0;34m.\u001b[0m\u001b[0minfo\u001b[0m\u001b[0;34m(\u001b[0m\u001b[0;34m)\u001b[0m\u001b[0;34m\u001b[0m\u001b[0m\n\u001b[0m",
      "\u001b[0;31mNameError\u001b[0m: name 'df' is not defined"
     ]
    }
   ],
   "source": [
    "df.info()"
   ]
  },
  {
   "cell_type": "code",
   "execution_count": null,
   "metadata": {},
   "outputs": [],
   "source": []
  }
 ],
 "metadata": {
  "kernelspec": {
   "display_name": "Python 3",
   "language": "python",
   "name": "python3"
  },
  "language_info": {
   "codemirror_mode": {
    "name": "ipython",
    "version": 3
   },
   "file_extension": ".py",
   "mimetype": "text/x-python",
   "name": "python",
   "nbconvert_exporter": "python",
   "pygments_lexer": "ipython3",
   "version": "3.6.2"
  }
 },
 "nbformat": 4,
 "nbformat_minor": 2
}
